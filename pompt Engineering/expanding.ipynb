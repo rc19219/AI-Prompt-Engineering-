{
 "cells": [
  {
   "cell_type": "markdown",
   "id": "42ce1c30",
   "metadata": {},
   "source": [
    "# Expanding\n",
    "In this lesson, you will generate customer service emails that are tailored to each customer's review.\n",
    "\n",
    "## Setup"
   ]
  },
  {
   "cell_type": "code",
   "execution_count": 1,
   "id": "d255bdd3",
   "metadata": {},
   "outputs": [],
   "source": [
    "import requests\n",
    "import json\n",
    "\n",
    "def get_completion(prompt, model=\"llama3.1:8b\",temperature=0):\n",
    "    url = \"http://localhost:11434/api/generate\"\n",
    "    headers = {\"Content-Type\": \"application/json\"}\n",
    "    payload = {\n",
    "        \"model\": model,\n",
    "        \"prompt\": prompt,\n",
    "        \"temperature\": temperature,\n",
    "    }\n",
    "\n",
    "    response = requests.post(url, headers=headers, json=payload, stream=True)\n",
    "    \n",
    "    output = \"\"\n",
    "    for line in response.iter_lines():\n",
    "        if line:\n",
    "            data = json.loads(line)\n",
    "            if \"response\" in data:\n",
    "                output += data[\"response\"]\n",
    "    return output.strip()\n",
    "\n"
   ]
  },
  {
   "cell_type": "markdown",
   "id": "2ef9d15c",
   "metadata": {},
   "source": [
    "## Customize the automated reply to a customer email"
   ]
  },
  {
   "cell_type": "code",
   "execution_count": 2,
   "id": "58e33008",
   "metadata": {},
   "outputs": [
    {
     "name": "stderr",
     "output_type": "stream",
     "text": [
      "<>:49: SyntaxWarning: invalid escape sequence '\\ '\n",
      "<>:49: SyntaxWarning: invalid escape sequence '\\ '\n",
      "C:\\Users\\rc19219\\AppData\\Local\\Temp\\ipykernel_13984\\2049866193.py:49: SyntaxWarning: invalid escape sequence '\\ '\n"
     ]
    }
   ],
   "source": [
    "# given the sentiment from the lesson on \"inferring\",\n",
    "# and the original customer message, customize the email\n",
    "sentiment = \"negative\"\n",
    "\n",
    "# review for a blender\n",
    "review = f\"\"\"\n",
    "So, they still had the 17 piece system on seasonal \\\n",
    "sale for around $49 in the month of November, about \\\n",
    "half off, but for some reason (call it price gouging) \\\n",
    "around the second week of December the prices all went \\\n",
    "up to about anywhere from between $70-$89 for the same \\\n",
    "system. And the 11 piece system went up around $10 or \\\n",
    "so in price also from the earlier sale price of $29. \\\n",
    "So it looks okay, but if you look at the base, the part \\\n",
    "where the blade locks into place doesn’t look as good \\\n",
    "as in previous editions from a few years ago, but I \\\n",
    "plan to be very gentle with it (example, I crush \\\n",
    "very hard items like beans, ice, rice, etc. in the \\ \n",
    "blender first then pulverize them in the serving size \\\n",
    "I want in the blender then switch to the whipping \\\n",
    "blade for a finer flour, and use the cross cutting blade \\\n",
    "first when making smoothies, then use the flat blade \\\n",
    "if I need them finer/less pulpy). Special tip when making \\\n",
    "smoothies, finely cut and freeze the fruits and \\\n",
    "vegetables (if using spinach-lightly stew soften the \\ \n",
    "spinach then freeze until ready for use-and if making \\\n",
    "sorbet, use a small to medium sized food processor) \\ \n",
    "that you plan to use that way you can avoid adding so \\\n",
    "much ice if at all-when making your smoothie. \\\n",
    "After about a year, the motor was making a funny noise. \\\n",
    "I called customer service but the warranty expired \\\n",
    "already, so I had to buy another one. FYI: The overall \\\n",
    "quality has gone done in these types of products, so \\\n",
    "they are kind of counting on brand recognition and \\\n",
    "consumer loyalty to maintain sales. Got it in about \\\n",
    "two days.\n",
    "\"\"\""
   ]
  },
  {
   "cell_type": "code",
   "execution_count": 3,
   "id": "cd441a1a",
   "metadata": {},
   "outputs": [
    {
     "name": "stdout",
     "output_type": "stream",
     "text": [
      "Here is an email reply to the customer:\n",
      "\n",
      "Subject: Re: Feedback on Recent Purchase\n",
      "\n",
      "Dear valued customer,\n",
      "\n",
      "Thank you for taking the time to share your review with us regarding your recent purchase of our 17 piece blender system. We appreciate your feedback, both positive and constructive.\n",
      "\n",
      "However, we regret that you were not satisfied with some aspects of your experience. Specifically, we understand that you felt that the prices increased significantly after a seasonal sale in November, which was disappointing to you. You also mentioned concerns about the quality of the product, particularly the blade locking mechanism, and noted that the motor made a funny noise after a year.\n",
      "\n",
      "We apologize for any inconvenience this may have caused and appreciate your patience as you navigate these issues. We would like to offer our support and suggest that you contact our customer service team directly if you need assistance or have further questions. They will be happy to help resolve any concerns you may have.\n",
      "\n",
      "Additionally, we appreciate the tips and advice you provided regarding using the blender system effectively, such as finely cutting and freezing fruits and vegetables before blending. These suggestions are invaluable to us, and we will share them with our product development team.\n",
      "\n",
      "Thank you again for your review and feedback. We value your loyalty and hope that we can serve you better in the future.\n",
      "\n",
      "Sincerely,\n",
      "\n",
      "AI customer agent\n"
     ]
    }
   ],
   "source": [
    "prompt = f\"\"\"\n",
    "You are a customer service AI assistant.\n",
    "Your task is to send an email reply to a valued customer.\n",
    "Given the customer email delimited by ```, \\\n",
    "Generate a reply to thank the customer for their review.\n",
    "If the sentiment is positive or neutral, thank them for \\\n",
    "their review.\n",
    "If the sentiment is negative, apologize and suggest that \\\n",
    "they can reach out to customer service. \n",
    "Make sure to use specific details from the review.\n",
    "Write in a concise and professional tone.\n",
    "Sign the email as `AI customer agent`.\n",
    "Customer review: ```{review}```\n",
    "Review sentiment: {sentiment}\n",
    "\"\"\"\n",
    "response = get_completion(prompt)\n",
    "print(response)"
   ]
  },
  {
   "cell_type": "markdown",
   "id": "09da3bef",
   "metadata": {},
   "source": [
    "## Remind the model to use details from the customer's email"
   ]
  },
  {
   "cell_type": "code",
   "execution_count": 8,
   "id": "7e7d814b",
   "metadata": {},
   "outputs": [
    {
     "name": "stdout",
     "output_type": "stream",
     "text": [
      "Subject: Re: Feedback on Your Recent Purchase\n",
      "\n",
      "Dear valued customer,\n",
      "\n",
      "Thank you for taking the time to share your thoughts on your recent purchase with us. We appreciate your feedback, both positive and constructive criticism.\n",
      "\n",
      "We're sorry to hear that you were disappointed with the price increase of our 17-piece system after the initial sale period. Additionally, we apologize if the quality of the product did not meet your expectations, particularly with regards to the base where the blade locks into place.\n",
      "\n",
      "Although your warranty has expired, we want to assure you that we're always here to help. If you have any questions or concerns about our products or services, please don't hesitate to reach out to us directly via email at [customer.service@example.com](mailto:customer.service@example.com) or by phone at 1-800-CUSTOMER.\n",
      "\n",
      "Thank you for your loyalty and continued support. We value your business and hope that we can provide a better experience in the future.\n",
      "\n",
      "Best regards,\n",
      "\n",
      "AI customer agent\n"
     ]
    }
   ],
   "source": [
    "prompt = f\"\"\"\n",
    "You are a customer service AI assistant.\n",
    "Your task is to send an email reply to a valued customer.\n",
    "Given the customer email delimited by ```, \\\n",
    "Generate a reply to thank the customer for their review.\n",
    "If the sentiment is positive or neutral, thank them for \\\n",
    "their review.\n",
    "If the sentiment is negative, apologize and suggest that \\\n",
    "they can reach out to customer service. \n",
    "Make sure to use specific details from the review.\n",
    "Write in a concise and professional tone.\n",
    "Sign the email as `AI customer agent`.\n",
    "Customer review: ```{review}```\n",
    "Review sentiment: {sentiment}\n",
    "\"\"\"\n",
    "response = get_completion(prompt, temperature=0.7)\n",
    "print(response)"
   ]
  }
 ],
 "metadata": {
  "kernelspec": {
   "display_name": "Python 3",
   "language": "python",
   "name": "python3"
  },
  "language_info": {
   "codemirror_mode": {
    "name": "ipython",
    "version": 3
   },
   "file_extension": ".py",
   "mimetype": "text/x-python",
   "name": "python",
   "nbconvert_exporter": "python",
   "pygments_lexer": "ipython3",
   "version": "3.13.6"
  }
 },
 "nbformat": 4,
 "nbformat_minor": 5
}
