{
 "cells": [
  {
   "cell_type": "markdown",
   "id": "34c37a1c",
   "metadata": {},
   "source": [
    "# Guidelines for Prompting\n",
    "In this lesson, you'll practice two prompting principles and their related tactics in order to write effective prompts for large language models.\n",
    "\n",
    "## Setup\n",
    "#### Load relevant Python libaries."
   ]
  },
  {
   "cell_type": "code",
   "execution_count": 12,
   "id": "92183e6b",
   "metadata": {},
   "outputs": [],
   "source": [
    "!pip install requests --quiet"
   ]
  },
  {
   "cell_type": "code",
   "execution_count": 1,
   "id": "e15b7c55",
   "metadata": {},
   "outputs": [],
   "source": [
    "import requests\n",
    "import json\n",
    "\n",
    "def get_completion(prompt, model=\"llama3.1:8b\"):\n",
    "    url = \"http://localhost:11434/api/generate\"\n",
    "    headers = {\"Content-Type\": \"application/json\"}\n",
    "    payload = {\n",
    "        \"model\": model,\n",
    "        \"prompt\": prompt\n",
    "    }\n",
    "\n",
    "    response = requests.post(url, headers=headers, json=payload, stream=True)\n",
    "    \n",
    "    output = \"\"\n",
    "    for line in response.iter_lines():\n",
    "        if line:\n",
    "            data = json.loads(line)\n",
    "            if \"response\" in data:\n",
    "                output += data[\"response\"]\n",
    "    return output.strip()\n",
    "\n"
   ]
  },
  {
   "cell_type": "markdown",
   "id": "75808468",
   "metadata": {},
   "source": [
    "## Prompting Principles\n",
    "- **Principle 1: Write clear and specific instructions**\n",
    "- **Principle 2: Give the model time to “think”**\n",
    "\n",
    "### Tactics\n",
    "\n",
    "#### Tactic 1: Use delimiters to clearly indicate distinct parts of the input\n",
    "- Delimiters can be anything like: ```, \"\"\", < >, `<tag> </tag>`, `:`"
   ]
  },
  {
   "cell_type": "code",
   "execution_count": 2,
   "id": "e3cff03f",
   "metadata": {},
   "outputs": [
    {
     "name": "stderr",
     "output_type": "stream",
     "text": [
      "<>:13: SyntaxWarning: invalid escape sequence '\\ '\n",
      "<>:18: SyntaxWarning: invalid escape sequence '\\ '\n",
      "<>:13: SyntaxWarning: invalid escape sequence '\\ '\n",
      "<>:18: SyntaxWarning: invalid escape sequence '\\ '\n",
      "C:\\Users\\rc19219\\AppData\\Local\\Temp\\ipykernel_6100\\2496532566.py:13: SyntaxWarning: invalid escape sequence '\\ '\n",
      "  prompt = f\"\"\"\n",
      "C:\\Users\\rc19219\\AppData\\Local\\Temp\\ipykernel_6100\\2496532566.py:18: SyntaxWarning: invalid escape sequence '\\ '\n",
      "  response = get_completion(prompt)\n"
     ]
    },
    {
     "name": "stdout",
     "output_type": "stream",
     "text": [
      "To get accurate results from a model, write clear and specific instructions that provide enough context to guide it towards the desired output.\n"
     ]
    }
   ],
   "source": [
    "text = f\"\"\"\n",
    "You should express what you want a model to do by \\ \n",
    "providing instructions that are as clear and \\ \n",
    "specific as you can possibly make them. \\ \n",
    "This will guide the model towards the desired output, \\ \n",
    "and reduce the chances of receiving irrelevant \\ \n",
    "or incorrect responses. Don't confuse writing a \\ \n",
    "clear prompt with writing a short prompt. \\ \n",
    "In many cases, longer prompts provide more clarity \\ \n",
    "and context for the model, which can lead to \\ \n",
    "more detailed and relevant outputs.\n",
    "\"\"\"\n",
    "prompt = f\"\"\"\n",
    "Summarize the text delimited by triple backticks \\ \n",
    "into a single sentence.\n",
    "```{text}```\n",
    "\"\"\"\n",
    "response = get_completion(prompt)\n",
    "print(response)"
   ]
  },
  {
   "cell_type": "markdown",
   "id": "8f867ca7",
   "metadata": {},
   "source": [
    "#### Tactic 2: Ask for a structured output\n",
    "- JSON, HTML"
   ]
  },
  {
   "cell_type": "code",
   "execution_count": 3,
   "id": "35bf0691",
   "metadata": {},
   "outputs": [
    {
     "name": "stderr",
     "output_type": "stream",
     "text": [
      "<>:7: SyntaxWarning: invalid escape sequence '\\ '\n",
      "<>:7: SyntaxWarning: invalid escape sequence '\\ '\n",
      "C:\\Users\\rc19219\\AppData\\Local\\Temp\\ipykernel_6100\\1713482535.py:7: SyntaxWarning: invalid escape sequence '\\ '\n",
      "  response = get_completion(prompt)\n"
     ]
    },
    {
     "name": "stdout",
     "output_type": "stream",
     "text": [
      "Here are three made-up book titles in JSON format:\n",
      "\n",
      "```\n",
      "[\n",
      "  {\n",
      "    \"book_id\": 1,\n",
      "    \"title\": \"The Memory Weaver\",\n",
      "    \"author\": \"Ava Grey\",\n",
      "    \"genre\": \"Science Fiction\"\n",
      "  },\n",
      "  {\n",
      "    \"book_id\": 2,\n",
      "    \"title\": \"Beyond the Ember Sky\",\n",
      "    \"author\": \"Ethan Blackwood\",\n",
      "    \"genre\": \"Fantasy Adventure\"\n",
      "  },\n",
      "  {\n",
      "    \"book_id\": 3,\n",
      "    \"title\": \"The Last Hope of Elyria\",\n",
      "    \"author\": \"Lila Moonstone\",\n",
      "    \"genre\": \"Young Adult Dystopian\"\n",
      "  }\n",
      "]\n",
      "```\n",
      "\n",
      "Let me know if you'd like me to generate more!\n"
     ]
    }
   ],
   "source": [
    "prompt = f\"\"\"\n",
    "Generate a list of three made-up book titles along \\ \n",
    "with their authors and genres. \n",
    "Provide them in JSON format with the following keys: \n",
    "book_id, title, author, genre.\n",
    "\"\"\"\n",
    "response = get_completion(prompt)\n",
    "print(response)"
   ]
  },
  {
   "cell_type": "markdown",
   "id": "f45b4070",
   "metadata": {},
   "source": [
    "#### Tactic 3: Ask the model to check whether conditions are satisfied"
   ]
  },
  {
   "cell_type": "code",
   "execution_count": 4,
   "id": "4c1be034",
   "metadata": {},
   "outputs": [
    {
     "name": "stderr",
     "output_type": "stream",
     "text": [
      "<>:12: SyntaxWarning: invalid escape sequence '\\ '\n",
      "<>:28: SyntaxWarning: invalid escape sequence '\\ '\n",
      "<>:12: SyntaxWarning: invalid escape sequence '\\ '\n",
      "<>:28: SyntaxWarning: invalid escape sequence '\\ '\n",
      "C:\\Users\\rc19219\\AppData\\Local\\Temp\\ipykernel_6100\\1019653045.py:12: SyntaxWarning: invalid escape sequence '\\ '\n",
      "  prompt = f\"\"\"\n",
      "C:\\Users\\rc19219\\AppData\\Local\\Temp\\ipykernel_6100\\1019653045.py:28: SyntaxWarning: invalid escape sequence '\\ '\n",
      "  print(\"Completion for Text 1:\")\n"
     ]
    },
    {
     "name": "stdout",
     "output_type": "stream",
     "text": [
      "Completion for Text 1:\n",
      "Here is the rewritten text in the requested format:\n",
      "\n",
      "Step 1 - Get water boiling.\n",
      "Step 2 - Grab a cup and put a tea bag in it.\n",
      "Step 3 - Pour hot water over the tea bag.\n",
      "Step 4 - Let the tea steep for a few minutes.\n",
      "Step 5 - Remove the tea bag.\n",
      "Step 6 - Add sugar or milk to taste (optional).\n",
      "Step 7 - Enjoy your delicious cup of tea.\n"
     ]
    }
   ],
   "source": [
    "text_1 = f\"\"\"\n",
    "Making a cup of tea is easy! First, you need to get some \\ \n",
    "water boiling. While that's happening, \\ \n",
    "grab a cup and put a tea bag in it. Once the water is \\ \n",
    "hot enough, just pour it over the tea bag. \\ \n",
    "Let it sit for a bit so the tea can steep. After a \\ \n",
    "few minutes, take out the tea bag. If you \\ \n",
    "like, you can add some sugar or milk to taste. \\ \n",
    "And that's it! You've got yourself a delicious \\ \n",
    "cup of tea to enjoy.\n",
    "\"\"\"\n",
    "prompt = f\"\"\"\n",
    "You will be provided with text delimited by triple quotes. \n",
    "If it contains a sequence of instructions, \\ \n",
    "re-write those instructions in the following format:\n",
    "\n",
    "Step 1 - ...\n",
    "Step 2 - …\n",
    "…\n",
    "Step N - …\n",
    "\n",
    "If the text does not contain a sequence of instructions, \\ \n",
    "then simply write \\\"No steps provided.\\\"\n",
    "\n",
    "\\\"\\\"\\\"{text_1}\\\"\\\"\\\"\n",
    "\"\"\"\n",
    "response = get_completion(prompt)\n",
    "print(\"Completion for Text 1:\")\n",
    "print(response)"
   ]
  },
  {
   "cell_type": "code",
   "execution_count": 5,
   "id": "69da45c6",
   "metadata": {},
   "outputs": [
    {
     "name": "stderr",
     "output_type": "stream",
     "text": [
      "<>:13: SyntaxWarning: invalid escape sequence '\\ '\n",
      "<>:28: SyntaxWarning: invalid escape sequence '\\ '\n",
      "<>:13: SyntaxWarning: invalid escape sequence '\\ '\n",
      "<>:28: SyntaxWarning: invalid escape sequence '\\ '\n",
      "C:\\Users\\rc19219\\AppData\\Local\\Temp\\ipykernel_6100\\286230293.py:13: SyntaxWarning: invalid escape sequence '\\ '\n",
      "  You will be provided with text delimited by triple quotes.\n",
      "C:\\Users\\rc19219\\AppData\\Local\\Temp\\ipykernel_6100\\286230293.py:28: SyntaxWarning: invalid escape sequence '\\ '\n",
      "  print(\"Completion for Text 2:\")\n"
     ]
    },
    {
     "name": "stdout",
     "output_type": "stream",
     "text": [
      "Completion for Text 2:\n",
      "No steps provided.\n"
     ]
    }
   ],
   "source": [
    "text_2 = f\"\"\"\n",
    "The sun is shining brightly today, and the birds are \\\n",
    "singing. It's a beautiful day to go for a \\ \n",
    "walk in the park. The flowers are blooming, and the \\ \n",
    "trees are swaying gently in the breeze. People \\ \n",
    "are out and about, enjoying the lovely weather. \\ \n",
    "Some are having picnics, while others are playing \\ \n",
    "games or simply relaxing on the grass. It's a \\ \n",
    "perfect day to spend time outdoors and appreciate the \\ \n",
    "beauty of nature.\n",
    "\"\"\"\n",
    "prompt = f\"\"\"\n",
    "You will be provided with text delimited by triple quotes. \n",
    "If it contains a sequence of instructions, \\ \n",
    "re-write those instructions in the following format:\n",
    "\n",
    "Step 1 - ...\n",
    "Step 2 - …\n",
    "…\n",
    "Step N - …\n",
    "\n",
    "If the text does not contain a sequence of instructions, \\ \n",
    "then simply write \\\"No steps provided.\\\"\n",
    "\n",
    "\\\"\\\"\\\"{text_2}\\\"\\\"\\\"\n",
    "\"\"\"\n",
    "response = get_completion(prompt)\n",
    "print(\"Completion for Text 2:\")\n",
    "print(response)"
   ]
  },
  {
   "cell_type": "markdown",
   "id": "7a35a6f7",
   "metadata": {},
   "source": [
    "#### Tactic 4: \"Few-shot\" prompting"
   ]
  },
  {
   "cell_type": "code",
   "execution_count": 6,
   "id": "b583a0ba",
   "metadata": {},
   "outputs": [
    {
     "name": "stderr",
     "output_type": "stream",
     "text": [
      "<>:17: SyntaxWarning: invalid escape sequence '\\ '\n",
      "<>:17: SyntaxWarning: invalid escape sequence '\\ '\n",
      "C:\\Users\\rc19219\\AppData\\Local\\Temp\\ipykernel_6100\\2238455314.py:17: SyntaxWarning: invalid escape sequence '\\ '\n"
     ]
    },
    {
     "name": "stdout",
     "output_type": "stream",
     "text": [
      "My young one, just as the river continues to flow, carving its path through stone and earth, even when faced with obstacles and setbacks, so too can we persevere through life's challenges. The symphony, though grand in scope, is built upon the harmony of individual notes, each one a small but vital part of the whole.\n",
      "\n",
      "And just as the tapestry, rich in texture and pattern, begins with a single thread, our own strength and character are woven from the threads of experience, trial, and error. We must not be discouraged by the difficulties we face, for it is in those moments that we discover the depth of our own resilience.\n"
     ]
    }
   ],
   "source": [
    "prompt = f\"\"\"\n",
    "Your task is to answer in a consistent style.\n",
    "\n",
    "<child>: Teach me about patience.\n",
    "\n",
    "<grandparent>: The river that carves the deepest \\ \n",
    "valley flows from a modest spring; the \\ \n",
    "grandest symphony originates from a single note; \\ \n",
    "the most intricate tapestry begins with a solitary thread.\n",
    "\n",
    "<child>: Teach me about resilience.\n",
    "\"\"\"\n",
    "response = get_completion(prompt)\n",
    "print(response)"
   ]
  },
  {
   "cell_type": "markdown",
   "id": "8ac06d5b",
   "metadata": {},
   "source": [
    "### Principle 2: Give the model time to “think” \n",
    "\n",
    "#### Tactic 1: Specify the steps required to complete a task"
   ]
  },
  {
   "cell_type": "code",
   "execution_count": 7,
   "id": "b3f632fd",
   "metadata": {},
   "outputs": [
    {
     "name": "stderr",
     "output_type": "stream",
     "text": [
      "<>:12: SyntaxWarning: invalid escape sequence '\\ '\n",
      "<>:12: SyntaxWarning: invalid escape sequence '\\ '\n",
      "C:\\Users\\rc19219\\AppData\\Local\\Temp\\ipykernel_6100\\99030377.py:12: SyntaxWarning: invalid escape sequence '\\ '\n",
      "  # example 1\n"
     ]
    },
    {
     "name": "stdout",
     "output_type": "stream",
     "text": [
      "Completion for prompt 1:\n",
      "**Summary:**\n",
      "In a charming village, siblings Jack and Jill set out on a quest to fetch water from a hilltop well.\n",
      "\n",
      "**French Summary:**\n",
      "Les frères et sœurs Jack et Jill se sont rendus dans un charmant village pour chercher de l'eau à la source située au sommet d'une colline.\n",
      "\n",
      "\n",
      "**Names in French Summary:**\n",
      "\n",
      "1. Jack\n",
      "2. Jill\n",
      "\n",
      "\n",
      "**JSON Output:**\n",
      "```json\n",
      "{\n",
      "  \"french_summary\": \"Les frères et sœurs Jack et Jill se sont rendus dans un charmant village pour chercher de l'eau à la source située au sommet d'une colline.\",\n",
      "  \"num_names\": 2\n",
      "}\n",
      "```\n"
     ]
    }
   ],
   "source": [
    "text = f\"\"\"\n",
    "In a charming village, siblings Jack and Jill set out on \\ \n",
    "a quest to fetch water from a hilltop \\ \n",
    "well. As they climbed, singing joyfully, misfortune \\ \n",
    "struck—Jack tripped on a stone and tumbled \\ \n",
    "down the hill, with Jill following suit. \\ \n",
    "Though slightly battered, the pair returned home to \\ \n",
    "comforting embraces. Despite the mishap, \\ \n",
    "their adventurous spirits remained undimmed, and they \\ \n",
    "continued exploring with delight.\n",
    "\"\"\"\n",
    "# example 1\n",
    "prompt_1 = f\"\"\"\n",
    "Perform the following actions: \n",
    "1 - Summarize the following text delimited by triple \\\n",
    "backticks with 1 sentence.\n",
    "2 - Translate the summary into French.\n",
    "3 - List each name in the French summary.\n",
    "4 - Output a json object that contains the following \\\n",
    "keys: french_summary, num_names.\n",
    "\n",
    "Separate your answers with line breaks.\n",
    "\n",
    "Text:\n",
    "```{text}```\n",
    "\"\"\"\n",
    "response = get_completion(prompt_1)\n",
    "print(\"Completion for prompt 1:\")\n",
    "print(response)"
   ]
  },
  {
   "cell_type": "markdown",
   "id": "8414dc18",
   "metadata": {},
   "source": [
    "#### Ask for output in a specified format"
   ]
  },
  {
   "cell_type": "code",
   "execution_count": 8,
   "id": "c90b62ec",
   "metadata": {},
   "outputs": [
    {
     "name": "stdout",
     "output_type": "stream",
     "text": [
      "\n",
      "Completion for prompt 2:\n",
      "Here are the requested outputs:\n",
      "\n",
      "**Summary:** In a charming village, siblings Jack and Jill set out on a quest to fetch water from a hilltop well.\n",
      "\n",
      "**Translation (French):** Dans un charmant village, les frères et sœurs Jack et Jill partent en quête d'eau dans un puits situé sur une colline.\n",
      "\n",
      "**Names:** [Jack, Jill]\n",
      "\n",
      "**Output JSON:**\n",
      "```json\n",
      "{\n",
      "  \"french_summary\": \"Dans un charmant village, les frères et sœurs Jack et Jill partent en quête d'eau dans un puits situé sur une colline.\",\n",
      "  \"num_names\": 2\n",
      "}\n",
      "```\n"
     ]
    }
   ],
   "source": [
    "prompt_2 = f\"\"\"\n",
    "Your task is to perform the following actions: \n",
    "1 - Summarize the following text delimited by \n",
    "  <> with 1 sentence.\n",
    "2 - Translate the summary into French.\n",
    "3 - List each name in the French summary.\n",
    "4 - Output a json object that contains the \n",
    "  following keys: french_summary, num_names.\n",
    "\n",
    "Use the following format:\n",
    "Text: <text to summarize>\n",
    "Summary: <summary>\n",
    "Translation: <summary translation>\n",
    "Names: <list of names in summary>\n",
    "Output JSON: <json with summary and num_names>\n",
    "\n",
    "Text: <{text}>\n",
    "\"\"\"\n",
    "response = get_completion(prompt_2)\n",
    "print(\"\\nCompletion for prompt 2:\")\n",
    "print(response)"
   ]
  },
  {
   "cell_type": "markdown",
   "id": "b12da609",
   "metadata": {},
   "source": [
    "#### Tactic 2: Instruct the model to work out its own solution before rushing to a conclusion"
   ]
  },
  {
   "cell_type": "code",
   "execution_count": 9,
   "id": "c315a983",
   "metadata": {},
   "outputs": [
    {
     "name": "stderr",
     "output_type": "stream",
     "text": [
      "<>:30: SyntaxWarning: invalid escape sequence '\\ '\n",
      "<>:30: SyntaxWarning: invalid escape sequence '\\ '\n",
      "C:\\Users\\rc19219\\AppData\\Local\\Temp\\ipykernel_6100\\1265626465.py:30: SyntaxWarning: invalid escape sequence '\\ '\n"
     ]
    },
    {
     "name": "stdout",
     "output_type": "stream",
     "text": [
      "The student's solution is mostly correct, but there are a couple of small mistakes.\n",
      "\n",
      "Firstly, the total cost should be simplified to:\n",
      "\n",
      "Costs:\n",
      "1. Land cost: $100x\n",
      "2. Solar panel cost: $250x\n",
      "3. Maintenance cost: $100,000 + $10x (not $100x)\n",
      "\n",
      "So, the correct total cost equation is:\n",
      "\n",
      "Total cost = 100x + 250x + 100,000 + 10x\n",
      "\n",
      "Combine like terms:\n",
      "Total cost = 360x + 100,000\n",
      "\n",
      "The student correctly set up the equations and combined like terms, but incorrectly wrote down one of the maintenance costs.\n",
      "\n",
      "Therefore, the final answer is mostly correct, but with a small mistake in the maintenance cost.\n"
     ]
    }
   ],
   "source": [
    "prompt = f\"\"\"\n",
    "Determine if the student's solution is correct or not.\n",
    "\n",
    "Question:\n",
    "I'm building a solar power installation and I need \\\n",
    " help working out the financials. \n",
    "- Land costs $100 / square foot\n",
    "- I can buy solar panels for $250 / square foot\n",
    "- I negotiated a contract for maintenance that will cost \\ \n",
    "me a flat $100k per year, and an additional $10 / square \\\n",
    "foot\n",
    "What is the total cost for the first year of operations \n",
    "as a function of the number of square feet.\n",
    "\n",
    "Student's Solution:\n",
    "Let x be the size of the installation in square feet.\n",
    "Costs:\n",
    "1. Land cost: 100x\n",
    "2. Solar panel cost: 250x\n",
    "3. Maintenance cost: 100,000 + 100x\n",
    "Total cost: 100x + 250x + 100,000 + 100x = 450x + 100,000\n",
    "\"\"\"\n",
    "response = get_completion(prompt)\n",
    "print(response)"
   ]
  },
  {
   "cell_type": "markdown",
   "id": "95fe3cb4",
   "metadata": {},
   "source": [
    "#### Note that the student's solution is actually not correct.\n",
    "#### We can fix this by instructing the model to work out its own solution first."
   ]
  },
  {
   "cell_type": "code",
   "execution_count": 10,
   "id": "4754bb39",
   "metadata": {},
   "outputs": [
    {
     "name": "stderr",
     "output_type": "stream",
     "text": [
      "<>:61: SyntaxWarning: invalid escape sequence '\\ '\n",
      "<>:61: SyntaxWarning: invalid escape sequence '\\ '\n",
      "C:\\Users\\rc19219\\AppData\\Local\\Temp\\ipykernel_6100\\1709959923.py:61: SyntaxWarning: invalid escape sequence '\\ '\n"
     ]
    },
    {
     "name": "stdout",
     "output_type": "stream",
     "text": [
      "Actual solution:\n",
      "\n",
      "Let x be the size of the installation in square feet.\n",
      "Costs:\n",
      "1. Land cost: $100x\n",
      "2. Solar panel cost: $250x\n",
      "3. Maintenance cost: The maintenance contract has two components - a flat fee of $100k and an additional $10 per square foot. So, the total maintenance cost is $100k + $10x.\n",
      "Total cost: To find the total cost, we need to add up all the costs:\n",
      "$100x (land) + $250x (solar panels) + $100k (flat fee for maintenance) + $10x (additional maintenance cost per square foot)\n",
      "Combine like terms:\n",
      "($100 + $250 + $10)x + $100k\n",
      "=$360x + $100k\n",
      "\n",
      "Is the student's solution the same as actual solution just calculated:\n",
      "= yes \n",
      "\n",
      "Student grade: \n",
      "= correct\n"
     ]
    }
   ],
   "source": [
    "prompt = f\"\"\"\n",
    "Your task is to determine if the student's solution \\\n",
    "is correct or not.\n",
    "To solve the problem do the following:\n",
    "- First, work out your own solution to the problem including the final total. \n",
    "- Then compare your solution to the student's solution \\ \n",
    "and evaluate if the student's solution is correct or not. \n",
    "Don't decide if the student's solution is correct until \n",
    "you have done the problem yourself.\n",
    "\n",
    "Use the following format:\n",
    "Question:\n",
    "```\n",
    "question here\n",
    "```\n",
    "Student's solution:\n",
    "```\n",
    "student's solution here\n",
    "```\n",
    "Actual solution:\n",
    "```\n",
    "steps to work out the solution and your solution here\n",
    "```\n",
    "Is the student's solution the same as actual solution \\\n",
    "just calculated:\n",
    "```\n",
    "yes or no\n",
    "```\n",
    "Student grade:\n",
    "```\n",
    "correct or incorrect\n",
    "```\n",
    "\n",
    "Question:\n",
    "```\n",
    "I'm building a solar power installation and I need help \\\n",
    "working out the financials. \n",
    "- Land costs $100 / square foot\n",
    "- I can buy solar panels for $250 / square foot\n",
    "- I negotiated a contract for maintenance that will cost \\\n",
    "me a flat $100k per year, and an additional $10 / square \\\n",
    "foot\n",
    "What is the total cost for the first year of operations \\\n",
    "as a function of the number of square feet.\n",
    "``` \n",
    "Student's solution:\n",
    "```\n",
    "Let x be the size of the installation in square feet.\n",
    "Costs:\n",
    "1. Land cost: 100x\n",
    "2. Solar panel cost: 250x\n",
    "3. Maintenance cost: 100,000 + 100x\n",
    "Total cost: 100x + 250x + 100,000 + 100x = 450x + 100,000\n",
    "```\n",
    "Actual solution:\n",
    "\"\"\"\n",
    "response = get_completion(prompt)\n",
    "print(response)"
   ]
  },
  {
   "cell_type": "markdown",
   "id": "df664694",
   "metadata": {},
   "source": [
    "## Model Limitations: Hallucinations\n",
    "- Boie is a real company, the product name is not real."
   ]
  },
  {
   "cell_type": "code",
   "execution_count": 11,
   "id": "d54a383e",
   "metadata": {},
   "outputs": [
    {
     "name": "stdout",
     "output_type": "stream",
     "text": [
      "The AeroGlide UltraSlim Smart Toothbrush by Boie is a high-tech, slimline toothbrush designed to provide an optimal oral care experience. Here are some of its key features:\n",
      "\n",
      "**Key Features:**\n",
      "\n",
      "1. **Thin and Compact Design**: As the name suggests, it has a super-slim design that fits easily in tight spaces, making it perfect for travel or everyday use.\n",
      "2. **Smart Technology**: This toothbrush comes equipped with advanced sensors to track your brushing habits, including:\n",
      "\t* Brushing duration\n",
      "\t* Pressure applied\n",
      "\t* Coverage of teeth and gums\n",
      "3. **Customizable Cleaning Plans**: The app (iOS and Android compatible) offers personalized cleaning plans based on your oral health needs.\n",
      "4. **Real-Time Feedback**: The toothbrush provides real-time feedback through vibrations, sounds, or light signals to ensure you're brushing effectively.\n",
      "5. **Two-Minute Timer**: Built-in timer ensures that you brush for the full recommended 2 minutes.\n",
      "6. **Rechargeable Battery**: Lasts up to 30 days on a single charge, with quick charging capability (10 minutes of charging provides 1 day's use).\n",
      "\n",
      "**Additional Features:**\n",
      "\n",
      "* Gentle and quiet motor\n",
      "* Interchangeable brush heads available in different sizes and types (soft, medium, or hard bristles)\n",
      "* Waterproof design for easy cleaning\n",
      "\n",
      "**Pros:**\n",
      "\n",
      "* Sleek design fits easily in a travel case or purse\n",
      "* Advanced sensors provide detailed insights into your brushing habits\n",
      "* Customizable cleaning plans based on individual needs\n",
      "* Gentle and quiet motor is suitable for sensitive teeth and gums\n",
      "\n",
      "**Cons:**\n",
      "\n",
      "* Limited availability of interchangeable brush heads\n",
      "* Some users may find the app features overwhelming or complicated to use\n",
      "\n",
      "Overall, the AeroGlide UltraSlim Smart Toothbrush by Boie offers an innovative and user-friendly approach to oral care. If you're looking for a high-tech toothbrush that provides personalized feedback and customizable cleaning plans, this might be an excellent choice.\n",
      "\n",
      "Please note: Prices may vary depending on your location and availability of the product.\n",
      "\n",
      "Are there any specific questions or concerns you'd like me to address?\n"
     ]
    }
   ],
   "source": [
    "prompt = f\"\"\"\n",
    "Tell me about AeroGlide UltraSlim Smart Toothbrush by Boie\n",
    "\"\"\"\n",
    "response = get_completion(prompt)\n",
    "print(response)"
   ]
  },
  {
   "cell_type": "markdown",
   "id": "ffad1a64",
   "metadata": {},
   "source": []
  }
 ],
 "metadata": {
  "kernelspec": {
   "display_name": "Python 3",
   "language": "python",
   "name": "python3"
  },
  "language_info": {
   "codemirror_mode": {
    "name": "ipython",
    "version": 3
   },
   "file_extension": ".py",
   "mimetype": "text/x-python",
   "name": "python",
   "nbconvert_exporter": "python",
   "pygments_lexer": "ipython3",
   "version": "3.13.6"
  }
 },
 "nbformat": 4,
 "nbformat_minor": 5
}
