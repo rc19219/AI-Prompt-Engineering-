{
 "cells": [
  {
   "cell_type": "markdown",
   "id": "c6639628",
   "metadata": {},
   "source": [
    "# Iterative Prompt Development\n",
    "In this lesson, you'll iteratively analyze and refine your prompts to generate marketing copy from a product fact sheet.\n",
    "\n",
    "## Setup"
   ]
  },
  {
   "cell_type": "code",
   "execution_count": 1,
   "id": "e1667347",
   "metadata": {},
   "outputs": [],
   "source": [
    "import requests\n",
    "import json\n",
    "\n",
    "def get_completion(prompt, model=\"llama3.1:8b\"):\n",
    "    url = \"http://localhost:11434/api/generate\"\n",
    "    headers = {\"Content-Type\": \"application/json\"}\n",
    "    payload = {\n",
    "        \"model\": model,\n",
    "        \"prompt\": prompt\n",
    "    }\n",
    "\n",
    "    response = requests.post(url, headers=headers, json=payload, stream=True)\n",
    "    \n",
    "    output = \"\"\n",
    "    for line in response.iter_lines():\n",
    "        if line:\n",
    "            data = json.loads(line)\n",
    "            if \"response\" in data:\n",
    "                output += data[\"response\"]\n",
    "    return output.strip()\n",
    "\n"
   ]
  },
  {
   "cell_type": "markdown",
   "id": "56ddd983",
   "metadata": {},
   "source": [
    "## Generate a marketing product description from a product fact sheet"
   ]
  },
  {
   "cell_type": "code",
   "execution_count": 2,
   "id": "fbd4ab3b",
   "metadata": {},
   "outputs": [],
   "source": [
    "fact_sheet_chair = \"\"\"\n",
    "OVERVIEW\n",
    "- Part of a beautiful family of mid-century inspired office furniture, \n",
    "including filing cabinets, desks, bookcases, meeting tables, and more.\n",
    "- Several options of shell color and base finishes.\n",
    "- Available with plastic back and front upholstery (SWC-100) \n",
    "or full upholstery (SWC-110) in 10 fabric and 6 leather options.\n",
    "- Base finish options are: stainless steel, matte black, \n",
    "gloss white, or chrome.\n",
    "- Chair is available with or without armrests.\n",
    "- Suitable for home or business settings.\n",
    "- Qualified for contract use.\n",
    "\n",
    "CONSTRUCTION\n",
    "- 5-wheel plastic coated aluminum base.\n",
    "- Pneumatic chair adjust for easy raise/lower action.\n",
    "\n",
    "DIMENSIONS\n",
    "- WIDTH 53 CM | 20.87”\n",
    "- DEPTH 51 CM | 20.08”\n",
    "- HEIGHT 80 CM | 31.50”\n",
    "- SEAT HEIGHT 44 CM | 17.32”\n",
    "- SEAT DEPTH 41 CM | 16.14”\n",
    "\n",
    "OPTIONS\n",
    "- Soft or hard-floor caster options.\n",
    "- Two choices of seat foam densities: \n",
    " medium (1.8 lb/ft3) or high (2.8 lb/ft3)\n",
    "- Armless or 8 position PU armrests \n",
    "\n",
    "MATERIALS\n",
    "SHELL BASE GLIDER\n",
    "- Cast Aluminum with modified nylon PA6/PA66 coating.\n",
    "- Shell thickness: 10 mm.\n",
    "SEAT\n",
    "- HD36 foam\n",
    "\n",
    "COUNTRY OF ORIGIN\n",
    "- Italy\n",
    "\"\"\""
   ]
  },
  {
   "cell_type": "code",
   "execution_count": 3,
   "id": "2c71196b",
   "metadata": {},
   "outputs": [
    {
     "name": "stdout",
     "output_type": "stream",
     "text": [
      "Here's a product description based on the technical specifications:\n",
      "\n",
      "**Elegance and Functionality in One Chair**\n",
      "\n",
      "Inspired by mid-century design, our chair is part of a beautiful family of office furniture that exudes style and sophistication. With its sleek shell and base finish options, including stainless steel, matte black, gloss white, or chrome, this chair is perfect for both home and business settings.\n",
      "\n",
      "Choose from 16 upholstery combinations, featuring 10 fabric and 6 leather options, to match your unique taste and decor. The chair's construction features a sturdy 5-wheel plastic coated aluminum base and pneumatic adjust for effortless rise and fall action.\n",
      "\n",
      "Select the perfect fit with our adjustable seat height (44 cm | 17.32\") and depth (41 cm | 16.14\"). Plus, opt for armless or 8-position PU armrests to suit your needs.\n",
      "\n",
      "For added comfort, choose from two seat foam densities: medium (1.8 lb/ft3) or high (2.8 lb/ft3). And with soft or hard-floor caster options, this chair can adapt to any floor type.\n",
      "\n",
      "Made in Italy, our chair is built to last and qualified for contract use. Whether you're looking for a stylish addition to your home office or a practical solution for your business, our chair has got you covered.\n",
      "\n",
      "**Product Specifications:**\n",
      "\n",
      "* Dimensions: Width 53 cm | 20.87\", Depth 51 cm | 20.08\", Height 80 cm | 31.50\"\n",
      "* Seat Height: 44 cm | 17.32\", Seat Depth: 41 cm | 16.14\"\n",
      "* Shell Base Glider: Cast Aluminum with modified nylon PA6/PA66 coating, Shell Thickness: 10 mm\n",
      "* Materials: HD36 foam\n",
      "\n",
      "**Order now and experience the perfect blend of style and functionality!**\n"
     ]
    }
   ],
   "source": [
    "prompt = f\"\"\"\n",
    "Your task is to help a marketing team create a \n",
    "description for a retail website of a product based \n",
    "on a technical fact sheet.\n",
    "\n",
    "Write a product description based on the information \n",
    "provided in the technical specifications delimited by \n",
    "triple backticks.\n",
    "\n",
    "Technical specifications: ```{fact_sheet_chair}```\n",
    "\"\"\"\n",
    "response = get_completion(prompt)\n",
    "print(response)\n"
   ]
  },
  {
   "cell_type": "markdown",
   "id": "7206c170",
   "metadata": {},
   "source": [
    "## Issue 1: The text is too long \n",
    "- Limit the number of words/sentences/characters."
   ]
  },
  {
   "cell_type": "code",
   "execution_count": 4,
   "id": "74bcb858",
   "metadata": {},
   "outputs": [
    {
     "name": "stdout",
     "output_type": "stream",
     "text": [
      "Here is a product description based on the technical fact sheet, within the 50-word limit:\n",
      "\n",
      "\"Elevate your workspace with our stylish mid-century inspired office chair. Choose from various shell colors and base finishes to suit your style. Available with plastic or full upholstery options, including 10 fabrics and 6 leathers, for comfort and durability in home or business settings.\"\n"
     ]
    }
   ],
   "source": [
    "prompt = f\"\"\"\n",
    "Your task is to help a marketing team create a \n",
    "description for a retail website of a product based \n",
    "on a technical fact sheet.\n",
    "\n",
    "Write a product description based on the information \n",
    "provided in the technical specifications delimited by \n",
    "triple backticks.\n",
    "\n",
    "Use at most 50 words.\n",
    "\n",
    "Technical specifications: ```{fact_sheet_chair}```\n",
    "\"\"\"\n",
    "response = get_completion(prompt)\n",
    "print(response)\n"
   ]
  },
  {
   "cell_type": "code",
   "execution_count": 5,
   "id": "f0ac2bda",
   "metadata": {},
   "outputs": [
    {
     "data": {
      "text/plain": [
       "59"
      ]
     },
     "execution_count": 5,
     "metadata": {},
     "output_type": "execute_result"
    }
   ],
   "source": [
    "len(response.split())"
   ]
  },
  {
   "cell_type": "markdown",
   "id": "b000dffe",
   "metadata": {},
   "source": [
    "## Issue 2. Text focuses on the wrong details\n",
    "- Ask it to focus on the aspects that are relevant to the intended audience."
   ]
  },
  {
   "cell_type": "code",
   "execution_count": 6,
   "id": "2356fe88",
   "metadata": {},
   "outputs": [
    {
     "name": "stdout",
     "output_type": "stream",
     "text": [
      "Here is a product description based on the technical specifications, targeting furniture retailers and focusing on the materials:\n",
      "\n",
      "\"Constructed from cast aluminum with modified nylon PA6/PA66 coating and 10mm thick shell, this chair features an HD36 foam seat. Available in various base finishes and upholstery options, suitable for both home and contract use.\"\n"
     ]
    }
   ],
   "source": [
    "prompt = f\"\"\"\n",
    "Your task is to help a marketing team create a \n",
    "description for a retail website of a product based \n",
    "on a technical fact sheet.\n",
    "\n",
    "Write a product description based on the information \n",
    "provided in the technical specifications delimited by \n",
    "triple backticks.\n",
    "\n",
    "The description is intended for furniture retailers, \n",
    "so should be technical in nature and focus on the \n",
    "materials the product is constructed from.\n",
    "\n",
    "Use at most 50 words.\n",
    "\n",
    "Technical specifications: ```{fact_sheet_chair}```\n",
    "\"\"\"\n",
    "response = get_completion(prompt)\n",
    "print(response)"
   ]
  },
  {
   "cell_type": "code",
   "execution_count": 7,
   "id": "725cb131",
   "metadata": {},
   "outputs": [
    {
     "name": "stdout",
     "output_type": "stream",
     "text": [
      "Here is a 50-word product description for the furniture retailer:\n",
      "\n",
      "\"Experience timeless mid-century design with our stylish office chair. Constructed from durable cast aluminum with modified nylon PA6/PA66 coating and HD36 foam seat, this piece is perfect for home or business settings. Choose from various base finishes and upholstery options to suit your style.\"\n",
      "\n",
      "Product IDs: SWC-100, SWC-110\n"
     ]
    }
   ],
   "source": [
    "prompt = f\"\"\"\n",
    "Your task is to help a marketing team create a \n",
    "description for a retail website of a product based \n",
    "on a technical fact sheet.\n",
    "\n",
    "Write a product description based on the information \n",
    "provided in the technical specifications delimited by \n",
    "triple backticks.\n",
    "\n",
    "The description is intended for furniture retailers, \n",
    "so should be technical in nature and focus on the \n",
    "materials the product is constructed from.\n",
    "\n",
    "At the end of the description, include every 7-character \n",
    "Product ID in the technical specification.\n",
    "\n",
    "Use at most 50 words.\n",
    "\n",
    "Technical specifications: ```{fact_sheet_chair}```\n",
    "\"\"\"\n",
    "response = get_completion(prompt)\n",
    "print(response)"
   ]
  },
  {
   "cell_type": "markdown",
   "id": "bd9d211c",
   "metadata": {},
   "source": [
    "## Issue 3. Description needs a table of dimensions\n",
    "- Ask it to extract information and organize it in a table."
   ]
  },
  {
   "cell_type": "code",
   "execution_count": 8,
   "id": "ee3e3ba5",
   "metadata": {},
   "outputs": [
    {
     "name": "stdout",
     "output_type": "stream",
     "text": [
      "Here is the product description and table based on the technical specifications provided:\n",
      "\n",
      "```html\n",
      "<div class=\"product-description\">\n",
      "    <h2>Mid-Century Inspired Office Chair</h2>\n",
      "    This office chair is part of a beautiful family of mid-century inspired office furniture, available in various configurations to suit your needs. Constructed from high-quality materials, this chair features a 5-wheel plastic coated aluminum base for stability and ease of movement.\n",
      "    The shell is made from cast aluminum with a modified nylon PA6/PA66 coating, providing a durable and long-lasting finish. The seat is made from HD36 foam, ensuring optimal comfort and support. Available in a range of upholstery options, this chair can be tailored to fit your home or business setting.\n",
      "\n",
      "    Product IDs: SWC-100, SWC-110\n",
      "</div>\n",
      "\n",
      "<table class=\"product-dimensions\">\n",
      "    <caption>Product Dimensions</caption>\n",
      "    <tr>\n",
      "        <th>Dimension</th>\n",
      "        <th>Measurement (inches)</th>\n",
      "    </tr>\n",
      "    <tr>\n",
      "        <td WIDTH</td>\n",
      "        <td>20.87</td>\n",
      "    </tr>\n",
      "    <tr>\n",
      "        <td DEPTH</td>\n",
      "        <td>20.08</td>\n",
      "    </tr>\n",
      "    <tr>\n",
      "        <td HEIGHT</td>\n",
      "        <td>31.50</td>\n",
      "    </tr>\n",
      "    <tr>\n",
      "        <td SEAT HEIGHT</td>\n",
      "        <td>17.32</td>\n",
      "    </tr>\n",
      "    <tr>\n",
      "        <td SEAT DEPTH</td>\n",
      "        <td>16.14</td>\n",
      "    </tr>\n",
      "</table>\n",
      "```\n",
      "\n",
      "Note: I've assumed the product IDs are SWC-100 and SWC-110 based on the text \"Available with plastic back and front upholstery (SWC-100) or full upholstery (SWC-110)\". If this is not the case, please let me know and I'll update the code accordingly.\n"
     ]
    }
   ],
   "source": [
    "prompt = f\"\"\"\n",
    "Your task is to help a marketing team create a \n",
    "description for a retail website of a product based \n",
    "on a technical fact sheet.\n",
    "\n",
    "Write a product description based on the information \n",
    "provided in the technical specifications delimited by \n",
    "triple backticks.\n",
    "\n",
    "The description is intended for furniture retailers, \n",
    "so should be technical in nature and focus on the \n",
    "materials the product is constructed from.\n",
    "\n",
    "At the end of the description, include every 7-character \n",
    "Product ID in the technical specification.\n",
    "\n",
    "After the description, include a table that gives the \n",
    "product's dimensions. The table should have two columns.\n",
    "In the first column include the name of the dimension. \n",
    "In the second column include the measurements in inches only.\n",
    "\n",
    "Give the table the title 'Product Dimensions'.\n",
    "\n",
    "Format everything as HTML that can be used in a website. \n",
    "Place the description in a <div> element.\n",
    "\n",
    "Technical specifications: ```{fact_sheet_chair}```\n",
    "\"\"\"\n",
    "\n",
    "response = get_completion(prompt)\n",
    "print(response)"
   ]
  },
  {
   "cell_type": "markdown",
   "id": "65b56568",
   "metadata": {},
   "source": [
    "## Load Python libraries to view HTML"
   ]
  },
  {
   "cell_type": "code",
   "execution_count": 9,
   "id": "9a3bb6a9",
   "metadata": {},
   "outputs": [],
   "source": [
    "from IPython.display import display, HTML"
   ]
  },
  {
   "cell_type": "code",
   "execution_count": 10,
   "id": "0c4e0fbb",
   "metadata": {},
   "outputs": [
    {
     "data": {
      "text/html": [
       "Here is the product description and table based on the technical specifications provided:\n",
       "\n",
       "```html\n",
       "<div class=\"product-description\">\n",
       "    <h2>Mid-Century Inspired Office Chair</h2>\n",
       "    This office chair is part of a beautiful family of mid-century inspired office furniture, available in various configurations to suit your needs. Constructed from high-quality materials, this chair features a 5-wheel plastic coated aluminum base for stability and ease of movement.\n",
       "    The shell is made from cast aluminum with a modified nylon PA6/PA66 coating, providing a durable and long-lasting finish. The seat is made from HD36 foam, ensuring optimal comfort and support. Available in a range of upholstery options, this chair can be tailored to fit your home or business setting.\n",
       "\n",
       "    Product IDs: SWC-100, SWC-110\n",
       "</div>\n",
       "\n",
       "<table class=\"product-dimensions\">\n",
       "    <caption>Product Dimensions</caption>\n",
       "    <tr>\n",
       "        <th>Dimension</th>\n",
       "        <th>Measurement (inches)</th>\n",
       "    </tr>\n",
       "    <tr>\n",
       "        <td WIDTH</td>\n",
       "        <td>20.87</td>\n",
       "    </tr>\n",
       "    <tr>\n",
       "        <td DEPTH</td>\n",
       "        <td>20.08</td>\n",
       "    </tr>\n",
       "    <tr>\n",
       "        <td HEIGHT</td>\n",
       "        <td>31.50</td>\n",
       "    </tr>\n",
       "    <tr>\n",
       "        <td SEAT HEIGHT</td>\n",
       "        <td>17.32</td>\n",
       "    </tr>\n",
       "    <tr>\n",
       "        <td SEAT DEPTH</td>\n",
       "        <td>16.14</td>\n",
       "    </tr>\n",
       "</table>\n",
       "```\n",
       "\n",
       "Note: I've assumed the product IDs are SWC-100 and SWC-110 based on the text \"Available with plastic back and front upholstery (SWC-100) or full upholstery (SWC-110)\". If this is not the case, please let me know and I'll update the code accordingly."
      ],
      "text/plain": [
       "<IPython.core.display.HTML object>"
      ]
     },
     "metadata": {},
     "output_type": "display_data"
    }
   ],
   "source": [
    "display(HTML(response))"
   ]
  },
  {
   "cell_type": "markdown",
   "id": "2ba65e4d",
   "metadata": {},
   "source": []
  }
 ],
 "metadata": {
  "kernelspec": {
   "display_name": "Python 3",
   "language": "python",
   "name": "python3"
  },
  "language_info": {
   "codemirror_mode": {
    "name": "ipython",
    "version": 3
   },
   "file_extension": ".py",
   "mimetype": "text/x-python",
   "name": "python",
   "nbconvert_exporter": "python",
   "pygments_lexer": "ipython3",
   "version": "3.13.6"
  }
 },
 "nbformat": 4,
 "nbformat_minor": 5
}
