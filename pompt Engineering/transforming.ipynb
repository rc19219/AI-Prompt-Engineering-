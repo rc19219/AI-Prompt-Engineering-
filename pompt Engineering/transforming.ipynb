{
 "cells": [
  {
   "cell_type": "markdown",
   "id": "325f51cc",
   "metadata": {},
   "source": [
    "# Transforming\n",
    "\n",
    "In this notebook, we will explore how to use Large Language Models for text transformation tasks such as language translation, spelling and grammar checking, tone adjustment, and format conversion.\n",
    "\n",
    "## Setup"
   ]
  },
  {
   "cell_type": "code",
   "execution_count": 1,
   "id": "410d7262",
   "metadata": {},
   "outputs": [],
   "source": [
    "import requests\n",
    "import json\n",
    "\n",
    "def get_completion(prompt, model=\"llama3.1:8b\"):\n",
    "    url = \"http://localhost:11434/api/generate\"\n",
    "    headers = {\"Content-Type\": \"application/json\"}\n",
    "    payload = {\n",
    "        \"model\": model,\n",
    "        \"prompt\": prompt\n",
    "    }\n",
    "\n",
    "    response = requests.post(url, headers=headers, json=payload, stream=True)\n",
    "    \n",
    "    output = \"\"\n",
    "    for line in response.iter_lines():\n",
    "        if line:\n",
    "            data = json.loads(line)\n",
    "            if \"response\" in data:\n",
    "                output += data[\"response\"]\n",
    "    return output.strip()\n",
    "\n"
   ]
  },
  {
   "cell_type": "markdown",
   "id": "822a0f2e",
   "metadata": {},
   "source": [
    "## Translation\n",
    "\n",
    "ChatGPT is trained with sources in many languages. This gives the model the ability to do translation. Here are some examples of how to use this capability."
   ]
  },
  {
   "cell_type": "code",
   "execution_count": 2,
   "id": "cc9771ee",
   "metadata": {},
   "outputs": [
    {
     "name": "stderr",
     "output_type": "stream",
     "text": [
      "<>:5: SyntaxWarning: invalid escape sequence '\\ '\n",
      "<>:5: SyntaxWarning: invalid escape sequence '\\ '\n",
      "C:\\Users\\rc19219\\AppData\\Local\\Temp\\ipykernel_18680\\3809162056.py:5: SyntaxWarning: invalid escape sequence '\\ '\n",
      "  response = get_completion(prompt)\n"
     ]
    },
    {
     "name": "stdout",
     "output_type": "stream",
     "text": [
      "Here is the translation:\n",
      "\n",
      "\"Hola, me gustaría pedir un blender\"\n"
     ]
    }
   ],
   "source": [
    "prompt = f\"\"\"\n",
    "Translate the following English text to Spanish: \\ \n",
    "```Hi, I would like to order a blender```\n",
    "\"\"\"\n",
    "response = get_completion(prompt)\n",
    "print(response)"
   ]
  },
  {
   "cell_type": "code",
   "execution_count": 3,
   "id": "a99ccd1a",
   "metadata": {},
   "outputs": [
    {
     "name": "stdout",
     "output_type": "stream",
     "text": [
      "French!\n"
     ]
    }
   ],
   "source": [
    "prompt = f\"\"\"\n",
    "Tell me which language this is: \n",
    "```Combien coûte le lampadaire?```\n",
    "\"\"\"\n",
    "response = get_completion(prompt)\n",
    "print(response)"
   ]
  },
  {
   "cell_type": "code",
   "execution_count": 4,
   "id": "d3a58c5b",
   "metadata": {},
   "outputs": [
    {
     "name": "stdout",
     "output_type": "stream",
     "text": [
      "Here are the translations:\n",
      "\n",
      "**French:** J'aimerais commander un panier de basket.\n",
      "\n",
      "**Spanish:** Quiero pedir un balón de baloncesto.\n",
      "\n",
      "**English:** I would like to order a basketball (no change, as it's already in English).\n"
     ]
    }
   ],
   "source": [
    "prompt = f\"\"\"\n",
    "Translate the following  text to French and Spanish\n",
    "and English pirate: \\\n",
    "```I want to order a basketball```\n",
    "\"\"\"\n",
    "response = get_completion(prompt)\n",
    "print(response)"
   ]
  },
  {
   "cell_type": "code",
   "execution_count": 5,
   "id": "e07b0e98",
   "metadata": {},
   "outputs": [
    {
     "name": "stdout",
     "output_type": "stream",
     "text": [
      "Here are the translations:\n",
      "\n",
      "**Formal:** \"¿Le gustaría ordenar una almohada?\"\n",
      "**Informal (friendly tone):** \"¿Quieres comprar una almohada?\"\n",
      "\n",
      "Note that in Spanish, there is no exact equivalent for the word \"order\" as used in the English sentence. Instead, I used \"ordenar\" which implies making a purchase or placing an order, and \"comprar\" which means simply to buy something.\n",
      "\n",
      "In the informal version, I used the more conversational verb \"queres\" (you want) instead of \"le gustaría\" (would you like), which is a bit more formal.\n"
     ]
    }
   ],
   "source": [
    "prompt = f\"\"\"\n",
    "Translate the following text to Spanish in both the \\\n",
    "formal and informal forms: \n",
    "'Would you like to order a pillow?'\n",
    "\"\"\"\n",
    "response = get_completion(prompt)\n",
    "print(response)"
   ]
  },
  {
   "cell_type": "markdown",
   "id": "9c3a7c61",
   "metadata": {},
   "source": [
    "### Universal Translator\n",
    "Imagine you are in charge of IT at a large multinational e-commerce company. Users are messaging you with IT issues in all their native languages. Your staff is from all over the world and speaks only their native languages. You need a universal translator!"
   ]
  },
  {
   "cell_type": "code",
   "execution_count": 6,
   "id": "1e85ac58",
   "metadata": {},
   "outputs": [],
   "source": [
    "user_messages = [\n",
    "  \"La performance du système est plus lente que d'habitude.\",  # System performance is slower than normal         \n",
    "  \"Mi monitor tiene píxeles que no se iluminan.\",              # My monitor has pixels that are not lighting\n",
    "  \"Il mio mouse non funziona\",                                 # My mouse is not working\n",
    "  \"Mój klawisz Ctrl jest zepsuty\",                             # My keyboard has a broken control key\n",
    "  \"我的屏幕在闪烁\"                                               # My screen is flashing\n",
    "] "
   ]
  },
  {
   "cell_type": "code",
   "execution_count": 7,
   "id": "d99908c4",
   "metadata": {},
   "outputs": [
    {
     "name": "stdout",
     "output_type": "stream",
     "text": [
      "Original message (This text appears to be in French.): La performance du système est plus lente que d'habitude.\n",
      "Voici la traduction en anglais et coréen :\n",
      "\n",
      "**Anglais :**\n",
      "The system's performance is slower than usual.\n",
      "\n",
      "**Coréen :**\n",
      "시스템의 성능은 보통보다 느립니다. (Siseum-eun seongnim-i bojjom-ppalgwa neop-neundeun ni).\n",
      "\n",
      "Notez que la traduction coréenne utilise le verbe \"느림\" (neop) qui signifie \"lenteur\" ou \"retard\". \n",
      "\n",
      "Original message (Un ejemplo claro de español! La oración \"Mi monitor tiene píxeles que no se iluminan\" está escrita en castellano, que es la lengua oficial de muchos países de América Latina y España.): Mi monitor tiene píxeles que no se iluminan.\n",
      "Aquí te dejo la traducción al inglés y coreano:\n",
      "\n",
      "**Inglés:** My monitor has pixels that do not light up.\n",
      "\n",
      "**Coreano:** 내 모니터는 펄스 픽셀이 없어요. (나의 모니터는 펄스 픽셀이 없어요.)\n",
      "\n",
      "Nota: La frase original en español \"Mi monitor tiene píxeles que no se iluminan\" es un poco difícil de traducir directamente al coreano, ya que la estructura gramatical y las palabras utilizadas son diferentes. Sin embargo, la traducción que te proporcioné intenta mantener el sentido original de la frase. \n",
      "\n",
      "Original message (The language is Italian. \n",
      "\n",
      "This phrase translates to \"My mouse doesn't work\".): Il mio mouse non funziona\n",
      "Ecco la traduzione in inglese e coreano:\n",
      "\n",
      "**Inglese:** My mouse is not working.\n",
      "\n",
      "**Coreano:** 마우스가 작동하지 않습니다. (mause-ga jakdonghaja annayo-seumnida) \n",
      "\n",
      "Original message (A Polish phrase!\n",
      "\n",
      "This translates to \"My Ctrl key is broken\" in English.): Mój klawisz Ctrl jest zepsuty\n",
      "Oto tłumaczenie na język angielski i koreański:\n",
      "\n",
      "**Angielski:** \"My keyboard's Ctrl key is broken\"\n",
      "\n",
      "**Koreański (Hangul):** \"\"(Gyeyeo-eseo) eotteokhae) \n",
      "\n",
      "Original message (The language is Chinese, specifically written in Simplified Chinese characters.): 我的屏幕在闪烁\n",
      "以下是对给定文本的翻译：\n",
      "\n",
      "**English:** \"My screen is flickering\"\n",
      "\n",
      "**Korean:** \"내 화면이 깜빡인다\" \n",
      "\n"
     ]
    }
   ],
   "source": [
    "for issue in user_messages:\n",
    "    prompt = f\"Tell me what language this is: ```{issue}```\"\n",
    "    lang = get_completion(prompt)\n",
    "    print(f\"Original message ({lang}): {issue}\")\n",
    "\n",
    "    prompt = f\"\"\"\n",
    "    Translate the following  text to English \\\n",
    "    and Korean: ```{issue}```\n",
    "    \"\"\"\n",
    "    response = get_completion(prompt)\n",
    "    print(response, \"\\n\")"
   ]
  },
  {
   "cell_type": "markdown",
   "id": "250adcf3",
   "metadata": {},
   "source": []
  }
 ],
 "metadata": {
  "kernelspec": {
   "display_name": "Python 3",
   "language": "python",
   "name": "python3"
  },
  "language_info": {
   "codemirror_mode": {
    "name": "ipython",
    "version": 3
   },
   "file_extension": ".py",
   "mimetype": "text/x-python",
   "name": "python",
   "nbconvert_exporter": "python",
   "pygments_lexer": "ipython3",
   "version": "3.13.6"
  }
 },
 "nbformat": 4,
 "nbformat_minor": 5
}
