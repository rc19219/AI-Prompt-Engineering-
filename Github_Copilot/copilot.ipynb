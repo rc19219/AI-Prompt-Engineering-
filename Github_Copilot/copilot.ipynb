{
 "cells": [
  {
   "cell_type": "markdown",
   "id": "124ca916",
   "metadata": {},
   "source": [
    "# GitHub Copilot Keyboard Shortcuts (VS Code)\n",
    "\n",
    "## Keyboard Shortcuts\n",
    "\n",
    "| Action                                   | macOS Shortcut             | Windows/Linux Shortcut         |\n",
    "|-------------------------------------------|:-------------------------:|:-----------------------------:|\n",
    "| Open Chat view                           | ⌃⌘I                       | Ctrl+Alt+I                    |\n",
    "| Start inline chat (editor/terminal)       | ⌘I                         | Ctrl+I                        |\n",
    "| New chat session in Chat view             | ⌘N                         | Ctrl+N                        |\n",
    "| Switch to agent/edit mode                 | ⇧⌘I / Cmd+.                | Ctrl+Shift+Alt+I / Ctrl+.     |\n",
    "| Accept inline suggestion                  | Tab                        | Tab                           |\n",
    "| Dismiss suggestion                       | Escape                     | Escape                        |\n",
    "| Open autocomplete suggestions             | Ctrl+Enter                 | Ctrl+Enter                    |\n",
    "| Accept suggestion (inline chat)           | Cmd+Enter                  | Ctrl+Enter                    |\n",
    "\n",
    "## Common Slash Commands (in Chat/Inline Chat Box)\n",
    "\n",
    "| Command      | Description                                   |\n",
    "|--------------|-----------------------------------------------|\n",
    "| `/clear`     | Start a new chat session / Clear conversation |\n",
    "| `/delete`    | Delete a conversation                         |\n",
    "| `/explain`   | Explain the current/selected code             |\n",
    "| `/fix`       | Propose a fix for the selected code           |\n",
    "| `/tests`     | Generate unit tests for selected code         |\n",
    "| `/help`      | Get Copilot help and usage info               |\n",
    "| `/new`       | Start a new project                           |\n",
    "\n",
    "## Chat Variables for Context\n",
    "\n",
    "Type `#` followed by a variable to add specific context in prompts:\n",
    "\n",
    "| Variable     | Context Included           |\n",
    "|--------------|---------------------------|\n",
    "| `#block`     | Current code block        |\n",
    "| `#class`     | Current class             |\n",
    "| `#comment`   | Current comment           |\n",
    "| `#file`      | Entire file content       |\n",
    "| `#function`  | Current function/method   |\n",
    "| `#line`      | Current line of code      |\n",
    "| `#path`      | File path                 |\n",
    "| `#project`   | Project/workspace context |\n",
    "| `#selection` | Current text selection    |\n",
    "| `#sym`       | Current symbol            |"
   ]
  },
  {
   "cell_type": "markdown",
   "id": "610f9d5f",
   "metadata": {},
   "source": [
    "# GitHub Copilot in VS Code\n",
    "\n",
    "## 1. What is GitHub Copilot?\n",
    "\n",
    "GitHub Copilot is an AI-powered code completion tool developed by GitHub and OpenAI. It helps developers by suggesting whole lines or blocks of code as they type, based on the context of the current file and comments. Copilot supports many programming languages and integrates directly into Visual Studio Code, making coding faster and more efficient.\n",
    "\n",
    "---\n",
    "\n",
    "## 2. Advantages of Using GitHub Copilot\n",
    "\n",
    "- **Increases Productivity:** Suggests code snippets, functions, and even complex algorithms, reducing the time spent writing boilerplate code.\n",
    "- **Improves Code Quality:** Offers suggestions that follow best practices and common patterns.\n",
    "- **Supports Multiple Languages:** Works with Python, JavaScript, TypeScript, Go, Ruby, and many more.\n",
    "- **Learns from Context:** Understands the context of your code and comments to provide relevant suggestions.\n",
    "- **Assists with Documentation:** Can generate docstrings and comments automatically.\n",
    "- **Reduces Learning Curve:** Helps beginners by suggesting correct syntax and code structures.\n",
    "\n",
    "---\n",
    "\n",
    "## 3. GitHub Copilot Shortcut Keys in VS Code\n",
    "\n",
    "| Action                                 | Shortcut (Windows)      | Shortcut (Mac)         |\n",
    "|-----------------------------------------|-------------------------|------------------------|\n",
    "| Accept Copilot suggestion               | `Tab`                   | `Tab`                  |\n",
    "| Next suggestion                         | `Alt` + `]`             | `Option` + `]`         |\n",
    "| Previous suggestion                     | `Alt` + `[`             | `Option` + `[`         |\n",
    "| Open Copilot suggestion panel           | `Ctrl` + `Enter`        | `Cmd` + `Enter`        |\n",
    "| Trigger inline suggestion               | `Ctrl` + `Space`        | `Cmd` + `Space`        |\n",
    "| Dismiss Copilot suggestion              | `Esc`                   | `Esc`                  |\n",
    "| Open Copilot commands palette           | `Ctrl` + `Shift` + `P`  | `Cmd` + `Shift` + `P`  |\n",
    "\n",
    "> **Tip:** You can also access Copilot commands by searching for \"Copilot\" in the Command Palette (`Ctrl` + `Shift` + `P`)."
   ]
  },
  {
   "cell_type": "markdown",
   "id": "00a16988",
   "metadata": {},
   "source": []
  },
  {
   "cell_type": "markdown",
   "id": "674ff0c6",
   "metadata": {},
   "source": []
  },
  {
   "cell_type": "markdown",
   "id": "b77f268e",
   "metadata": {},
   "source": []
  }
 ],
 "metadata": {
  "language_info": {
   "name": "python"
  }
 },
 "nbformat": 4,
 "nbformat_minor": 5
}
